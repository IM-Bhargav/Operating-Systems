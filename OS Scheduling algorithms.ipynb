{
 "cells": [
  {
   "cell_type": "code",
   "execution_count": 49,
   "id": "f3ea7bb3",
   "metadata": {},
   "outputs": [
    {
     "ename": "SyntaxError",
     "evalue": "invalid syntax (Temp/ipykernel_9104/280376632.py, line 117)",
     "output_type": "error",
     "traceback": [
      "\u001b[1;36m  File \u001b[1;32m\"C:\\Users\\TEMP~1.MIT\\AppData\\Local\\Temp/ipykernel_9104/280376632.py\"\u001b[1;36m, line \u001b[1;32m117\u001b[0m\n\u001b[1;33m    def round_robin()\u001b[0m\n\u001b[1;37m                     ^\u001b[0m\n\u001b[1;31mSyntaxError\u001b[0m\u001b[1;31m:\u001b[0m invalid syntax\n"
     ]
    }
   ],
   "source": [
    "import pandas as pd\n",
    "\n",
    "def SJF():\n",
    "    sumw=0\n",
    "    sumt=0\n",
    "    n = int(input(\"Enter the number of processes : \"))\n",
    "    c=0\n",
    "    ids,waiting_time,turn_around_time,brust_time,completion_time = [0]*n,[0]*n,[0]*n,[0]*n,[0]*n\n",
    "    for i in range(n):\n",
    "        ids[i] = i+1\n",
    "        brust_time[i] = int(input(f\"{i+1} Brust Time : \"))\n",
    "    for i in range(n):\n",
    "        for j in range(i+1,n):\n",
    "            if brust_time[i]>brust_time[j]:\n",
    "                brust_time[i],brust_time[j]=brust_time[j],brust_time[i]\n",
    "                ids[i],ids[j]=ids[j],ids[i]\n",
    "    for i in range(n):\n",
    "        c+=brust_time[i]\n",
    "        completion_time[i]=c\n",
    "    for i in range(n):\n",
    "        turn_around_time[i]=completion_time[i]\n",
    "        waiting_time[i] = turn_around_time[i] - completion_time[i]\n",
    "    \n",
    "    d = {\n",
    "        \n",
    "        \"id\":ids,\n",
    "        \"Brust Time\":brust_time,\n",
    "        \"completion Time\":completion_time,\n",
    "        \"Turn Around Time\":turn_around_time,\n",
    "        \"waiting_time\":waiting_time,\n",
    "    }\n",
    "    \n",
    "    df = pd.DataFrame(d)\n",
    "    print(df)\n",
    "    for i in range(n):\n",
    "        sumw+=waiting_time[i]\n",
    "        sumt+=turn_around_time[i]\n",
    "        \n",
    "    print(\"Waiting Time Average : \",sumw/n)\n",
    "    print(\"Turn Around Time Average : \",sumt/n)\n",
    "    \n",
    "    \n",
    "def FCFS():\n",
    "    sumw=0\n",
    "    sumt=0\n",
    "    n = int(input(\"Enter the number of processes : \"))\n",
    "    c=0\n",
    "    ids,waiting_time,turn_around_time,brust_time,completion_time = [0]*n,[0]*n,[0]*n,[0]*n,[0]*n\n",
    "    for i in range(n):\n",
    "        ids[i] = i+1\n",
    "        brust_time[i] = int(input(f\"{i+1} Brust Time : \"))\n",
    "    for i in range(n):\n",
    "        c+=brust_time[i]\n",
    "        completion_time[i] = c\n",
    "        turn_around_time[i] = completion_time[i]\n",
    "        waiting_time[i]= turn_around_time[i] - completion_time[i]\n",
    "        \n",
    "    d = {\n",
    "        \"id\":ids,\n",
    "        \"Brust Time\":brust_time,\n",
    "        \"Completion Time\":completion_time,\n",
    "        \"Turn Around Time\":turn_around_time,\n",
    "        \"waiting_time\":waiting_time,\n",
    "    }\n",
    "    \n",
    "    df = pd.DataFrame(d)\n",
    "    print(df)\n",
    "    for i in range(n):\n",
    "        sumw+=waiting_time[i]\n",
    "        sumt+=turn_around_time[i]\n",
    "        \n",
    "    print(\"Waiting Time Average : \",sumw/n)\n",
    "    print(\"Turn Around Time Average : \",sumt/n)\n",
    "\n",
    "    \n",
    "def priority():\n",
    "    sumw=0\n",
    "    sumt=0\n",
    "    n = int(input(\"Enter the number of processes : \"))\n",
    "    c=0\n",
    "    ids,waiting_time,turn_around_time,brust_time,completion_time,priority = [0]*n,[0]*n,[0]*n,[0]*n,[0]*n,[0]*n\n",
    "    for i in range(n):\n",
    "        ids[i] = i+1\n",
    "        priority[i] = int(input(f\"{i+1} priority : \"))\n",
    "        brust_time[i] = int(input(f\"{i+1} Brust Time : \"))\n",
    "    for i in range(n):\n",
    "        for j in range(i+1,n):\n",
    "            if priority[i]>priority[j]:\n",
    "                brust_time[i],brust_time[j]=brust_time[j],brust_time[i]\n",
    "                ids[i],ids[j]=ids[j],ids[i]\n",
    "                priority[i],priority[j]=priority[j],priority[i]\n",
    "    for i in range(n):\n",
    "        c+=brust_time[i]\n",
    "        completion_time[i] = c\n",
    "        turn_around_time[i] = completion_time[i]\n",
    "        waiting_time[i] = turn_around_time[i]-completion_time[i]\n",
    "    \n",
    "    d = {\n",
    "        \"id\":ids,\n",
    "        \"Priority\":priority,\n",
    "        \"Brust Time\":brust_time,\n",
    "        \"Completion Time\":completion_time,\n",
    "        \"Turn Around Time\":turn_around_time,\n",
    "        \"waiting_time\":waiting_time,\n",
    "    }\n",
    "    \n",
    "    df = pd.DataFrame(d)\n",
    "    print(df)\n",
    "    for i in range(n):\n",
    "        sumw+=waiting_time[i]\n",
    "        sumt+=turn_around_time[i]\n",
    "        \n",
    "    print(\"Waiting Time Average : \",sumw/n)\n",
    "    print(\"Turn Around Time Average : \",sumt/n)\n",
    "    \n",
    "\n",
    "def round_robin():\n",
    "    sumw=0\n",
    "    sumt=0\n",
    "    n = int(input(\"Enter the number of processes : \"))\n",
    "    c=0\n",
    "    ids,waiting_time,turn_around_time,brust_time,completion_time = [0]*n,[0]*n,[0]*n,[0]*n,[0]*n\n",
    "    for i in range(n):\n",
    "        ids[i] = i+1\n",
    "        brust_time[i] = int(input(f\"{i+1} Brust Time : \"))\n",
    "    timeslice = int(input(\"Enter the time slice : \"))\n",
    "    readyqueue = []\n",
    "    \n",
    "    i=0\n",
    "    while(len(brust_time)>0):\n",
    "        if brust_time[i]>3 and brust_time[i]>0:\n",
    "            c+=3\n",
    "            brust_time[i] = brust_time[i]-3\n",
    "        else:\n",
    "            c+=brust_time[i]\n",
    "            completion_time[i]=c\n",
    "        i+=1    "
   ]
  },
  {
   "cell_type": "code",
   "execution_count": 39,
   "id": "41f018b4",
   "metadata": {},
   "outputs": [
    {
     "name": "stdout",
     "output_type": "stream",
     "text": [
      "Enter the number of processes : 4\n",
      "1 Brust Time : 1\n",
      "2 Brust Time : 2\n",
      "3 Brust Time : 3\n",
      "4 Brust Time : 4\n",
      "   id  Brust Time  completion Time  Turn Around Time  waiting_time\n",
      "0   1           1                1                 1             0\n",
      "1   2           2                3                 3             0\n",
      "2   3           3                6                 6             0\n",
      "3   4           4               10                10             0\n",
      "Waiting Time Average :  0.0\n",
      "Turn Around Time Average :  5.0\n"
     ]
    }
   ],
   "source": [
    "SJF()"
   ]
  },
  {
   "cell_type": "markdown",
   "id": "9260c89c",
   "metadata": {},
   "source": [
    "FCFS()"
   ]
  },
  {
   "cell_type": "code",
   "execution_count": 42,
   "id": "962fd6f4",
   "metadata": {},
   "outputs": [
    {
     "name": "stdout",
     "output_type": "stream",
     "text": [
      "Enter the number of processes : 5\n",
      "1 Brust Time : 1\n",
      "2 Brust Time : 2\n",
      "3 Brust Time : 3\n",
      "4 Brust Time : 4\n",
      "5 Brust Time : 5\n",
      "   id  Brust Time  Completion Time  Turn Around Time  waiting_time\n",
      "0   1           1                1                 1             0\n",
      "1   2           2                3                 3             0\n",
      "2   3           3                6                 6             0\n",
      "3   4           4               10                10             0\n",
      "4   5           5               15                15             0\n",
      "Waiting Time Average :  0.0\n",
      "Turn Around Time Average :  7.0\n"
     ]
    }
   ],
   "source": [
    "FCFS()"
   ]
  },
  {
   "cell_type": "code",
   "execution_count": 48,
   "id": "4b0a44d8",
   "metadata": {},
   "outputs": [
    {
     "name": "stdout",
     "output_type": "stream",
     "text": [
      "Enter the number of processes : 3\n",
      "1 priority : 5\n",
      "1 Brust Time : 4\n",
      "2 priority : 2\n",
      "2 Brust Time : 5\n",
      "3 priority : 7\n",
      "3 Brust Time : 3\n",
      "   id  Priority  Brust Time  Completion Time  Turn Around Time  waiting_time\n",
      "0   2         2           5                5                 5             0\n",
      "1   1         5           4                9                 9             0\n",
      "2   3         7           3               12                12             0\n",
      "Waiting Time Average :  0.0\n",
      "Turn Around Time Average :  8.666666666666666\n"
     ]
    }
   ],
   "source": [
    "priority()"
   ]
  },
  {
   "cell_type": "code",
   "execution_count": null,
   "id": "9ad0b172",
   "metadata": {},
   "outputs": [],
   "source": [
    "from setuptools import setup\n",
    "setup(\n",
    "        )"
   ]
  }
 ],
 "metadata": {
  "kernelspec": {
   "display_name": "Python 3 (ipykernel)",
   "language": "python",
   "name": "python3"
  },
  "language_info": {
   "codemirror_mode": {
    "name": "ipython",
    "version": 3
   },
   "file_extension": ".py",
   "mimetype": "text/x-python",
   "name": "python",
   "nbconvert_exporter": "python",
   "pygments_lexer": "ipython3",
   "version": "3.9.7"
  }
 },
 "nbformat": 4,
 "nbformat_minor": 5
}
